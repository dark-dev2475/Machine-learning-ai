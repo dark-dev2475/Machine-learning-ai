{
  "nbformat": 4,
  "nbformat_minor": 0,
  "metadata": {
    "colab": {
      "provenance": [],
      "authorship_tag": "ABX9TyPR7FQzv1u+GqcEQODBI5Ff",
      "include_colab_link": true
    },
    "kernelspec": {
      "name": "python3",
      "display_name": "Python 3"
    },
    "language_info": {
      "name": "python"
    }
  },
  "cells": [
    {
      "cell_type": "markdown",
      "metadata": {
        "id": "view-in-github",
        "colab_type": "text"
      },
      "source": [
        "<a href=\"https://colab.research.google.com/github/dark-dev2475/Machine-learning-ai/blob/main/pythonbasics.ipynb\" target=\"_parent\"><img src=\"https://colab.research.google.com/assets/colab-badge.svg\" alt=\"Open In Colab\"/></a>"
      ]
    },
    {
      "cell_type": "code",
      "execution_count": null,
      "metadata": {
        "colab": {
          "base_uri": "https://localhost:8080/"
        },
        "id": "eXn5mAN93xOg",
        "outputId": "33f55883-29fc-49d0-c4ff-7a0caf2eb23d"
      },
      "outputs": [
        {
          "output_type": "stream",
          "name": "stdout",
          "text": [
            "hello python\n"
          ]
        }
      ],
      "source": [
        "print(\"hello python\")"
      ]
    },
    {
      "cell_type": "code",
      "source": [
        "print (\"machine learningg\")"
      ],
      "metadata": {
        "colab": {
          "base_uri": "https://localhost:8080/"
        },
        "id": "n_3_aJHm4F47",
        "outputId": "590cca21-01bf-4e8d-f581-c5c959b4ff43"
      },
      "execution_count": null,
      "outputs": [
        {
          "output_type": "stream",
          "name": "stdout",
          "text": [
            "machine learningg\n"
          ]
        }
      ]
    },
    {
      "cell_type": "code",
      "source": [
        "print (\"mahine learning\"+\" projects\")"
      ],
      "metadata": {
        "colab": {
          "base_uri": "https://localhost:8080/"
        },
        "id": "zfe4JuDd4PSn",
        "outputId": "3136d7ec-5675-4bb6-8167-13d2fd914f7c"
      },
      "execution_count": null,
      "outputs": [
        {
          "output_type": "stream",
          "name": "stdout",
          "text": [
            "mahine learning projects\n"
          ]
        }
      ]
    },
    {
      "cell_type": "code",
      "source": [
        "print(8+3)"
      ],
      "metadata": {
        "colab": {
          "base_uri": "https://localhost:8080/"
        },
        "id": "_DXDVkNO4e0W",
        "outputId": "a9cc853f-7f7c-44e2-e9df-c50c7a49fdb6"
      },
      "execution_count": null,
      "outputs": [
        {
          "output_type": "stream",
          "name": "stdout",
          "text": [
            "11\n"
          ]
        }
      ]
    },
    {
      "cell_type": "code",
      "source": [
        "type(4)"
      ],
      "metadata": {
        "colab": {
          "base_uri": "https://localhost:8080/"
        },
        "id": "sFgosmXt4kcS",
        "outputId": "7c413196-fb73-442d-d61d-8d2d35b7f99f"
      },
      "execution_count": null,
      "outputs": [
        {
          "output_type": "execute_result",
          "data": {
            "text/plain": [
              "int"
            ]
          },
          "metadata": {},
          "execution_count": 6
        }
      ]
    },
    {
      "cell_type": "code",
      "source": [
        "type(\"string\")"
      ],
      "metadata": {
        "colab": {
          "base_uri": "https://localhost:8080/"
        },
        "id": "jMIgSE8048Qa",
        "outputId": "825b2c26-50e2-434a-ca03-5e2ba3d029ab"
      },
      "execution_count": null,
      "outputs": [
        {
          "output_type": "execute_result",
          "data": {
            "text/plain": [
              "str"
            ]
          },
          "metadata": {},
          "execution_count": 7
        }
      ]
    },
    {
      "cell_type": "code",
      "source": [
        "type(8.98)"
      ],
      "metadata": {
        "colab": {
          "base_uri": "https://localhost:8080/"
        },
        "id": "_o8DAgIY4-u1",
        "outputId": "9a1fd8fd-3696-4ce5-dad6-36371ab6b521"
      },
      "execution_count": null,
      "outputs": [
        {
          "output_type": "execute_result",
          "data": {
            "text/plain": [
              "float"
            ]
          },
          "metadata": {},
          "execution_count": 8
        }
      ]
    },
    {
      "cell_type": "markdown",
      "source": [
        "contsants and variables"
      ],
      "metadata": {
        "id": "s7_zgr4P5DMy"
      }
    },
    {
      "cell_type": "code",
      "source": [
        "hero1,hero2,hero3=\"ironman\",\"thor\",\"hulk\"\n",
        "print(hero1)\n",
        "print(hero2)\n",
        "print(hero3)"
      ],
      "metadata": {
        "colab": {
          "base_uri": "https://localhost:8080/"
        },
        "id": "lByARmtj5Axs",
        "outputId": "2c42e878-797a-4c5d-b6d6-9af4e765cc31"
      },
      "execution_count": null,
      "outputs": [
        {
          "output_type": "stream",
          "name": "stdout",
          "text": [
            "ironman\n",
            "thor\n",
            "hulk\n"
          ]
        }
      ]
    },
    {
      "cell_type": "code",
      "source": [
        "x=y=z=23\n",
        "print(x)\n",
        "print(y)\n",
        "print(z)"
      ],
      "metadata": {
        "colab": {
          "base_uri": "https://localhost:8080/"
        },
        "id": "Y5cvIFPp5uNa",
        "outputId": "c2d14727-08a0-49af-9066-13b5400ec2b6"
      },
      "execution_count": null,
      "outputs": [
        {
          "output_type": "stream",
          "name": "stdout",
          "text": [
            "23\n",
            "23\n",
            "23\n"
          ]
        }
      ]
    },
    {
      "cell_type": "markdown",
      "source": [
        "input funtion\n"
      ],
      "metadata": {
        "id": "9vOqcfBC6l7A"
      }
    },
    {
      "cell_type": "code",
      "source": [
        " number1=int(input(\"enter the first number\"))\n",
        " number2 =int(input(\"entr the second nnumber\"))\n",
        " sum=number1+number2\n",
        " print(sum)"
      ],
      "metadata": {
        "colab": {
          "base_uri": "https://localhost:8080/"
        },
        "id": "Pv4Ctaf96fkA",
        "outputId": "97b7d59e-ac67-46c6-e379-79579d67d7d1"
      },
      "execution_count": null,
      "outputs": [
        {
          "output_type": "stream",
          "name": "stdout",
          "text": [
            "enter the first number76\n",
            "entr the second nnumber3\n",
            "79\n"
          ]
        }
      ]
    },
    {
      "cell_type": "code",
      "source": [
        "num=3\n",
        "print(float(num))"
      ],
      "metadata": {
        "colab": {
          "base_uri": "https://localhost:8080/"
        },
        "id": "rJMSFRzF7ha9",
        "outputId": "a472c594-f5f8-4b3c-e40a-4c95405108ae"
      },
      "execution_count": null,
      "outputs": [
        {
          "output_type": "stream",
          "name": "stdout",
          "text": [
            "3.0\n"
          ]
        }
      ]
    },
    {
      "cell_type": "markdown",
      "source": [
        "basic data types in python:\n",
        "integer\n",
        "float\n",
        "complex\n",
        "boolean\n",
        "string\n",
        "\n"
      ],
      "metadata": {
        "id": "fiSuH62e8hLL"
      }
    },
    {
      "cell_type": "code",
      "source": [
        "#integers\n",
        "a=9\n",
        "print(a)"
      ],
      "metadata": {
        "colab": {
          "base_uri": "https://localhost:8080/"
        },
        "id": "1gXOfB3z8OVS",
        "outputId": "5122818c-b66c-42ee-815d-4283f39d01a4"
      },
      "execution_count": null,
      "outputs": [
        {
          "output_type": "stream",
          "name": "stdout",
          "text": [
            "9\n"
          ]
        }
      ]
    },
    {
      "cell_type": "code",
      "source": [
        "type(a)"
      ],
      "metadata": {
        "colab": {
          "base_uri": "https://localhost:8080/"
        },
        "id": "W4EotXhr82W4",
        "outputId": "a80d4bf1-9a52-4f6b-8056-6a5cf98e7924"
      },
      "execution_count": null,
      "outputs": [
        {
          "output_type": "execute_result",
          "data": {
            "text/plain": [
              "int"
            ]
          },
          "metadata": {},
          "execution_count": 18
        }
      ]
    },
    {
      "cell_type": "code",
      "source": [
        "#floating points"
      ],
      "metadata": {
        "id": "rmQSHu7m84Jj"
      },
      "execution_count": null,
      "outputs": []
    },
    {
      "cell_type": "code",
      "source": [
        " b=9.4\n",
        " print(b)\n",
        " type(b)"
      ],
      "metadata": {
        "colab": {
          "base_uri": "https://localhost:8080/"
        },
        "id": "DN3-BAaC89LT",
        "outputId": "a8938b4c-eaf6-4b2b-a05f-1fa80cc194bf"
      },
      "execution_count": null,
      "outputs": [
        {
          "output_type": "stream",
          "name": "stdout",
          "text": [
            "9.4\n"
          ]
        },
        {
          "output_type": "execute_result",
          "data": {
            "text/plain": [
              "float"
            ]
          },
          "metadata": {},
          "execution_count": 20
        }
      ]
    },
    {
      "cell_type": "code",
      "source": [
        "#complex numbers"
      ],
      "metadata": {
        "id": "2n9IjSuN9DFV"
      },
      "execution_count": null,
      "outputs": []
    },
    {
      "cell_type": "code",
      "source": [
        "c=1+4j"
      ],
      "metadata": {
        "id": "DiOJZwmV9LNb"
      },
      "execution_count": null,
      "outputs": []
    },
    {
      "cell_type": "code",
      "source": [
        "print(c)\n",
        "type(c)"
      ],
      "metadata": {
        "colab": {
          "base_uri": "https://localhost:8080/"
        },
        "id": "l64Z-hve9OEQ",
        "outputId": "1b1712d3-540f-40d6-a71e-ea577a880775"
      },
      "execution_count": null,
      "outputs": [
        {
          "output_type": "stream",
          "name": "stdout",
          "text": [
            "(1+4j)\n"
          ]
        },
        {
          "output_type": "execute_result",
          "data": {
            "text/plain": [
              "complex"
            ]
          },
          "metadata": {},
          "execution_count": 23
        }
      ]
    },
    {
      "cell_type": "code",
      "source": [
        "o=9+4j\n",
        "print(o)\n",
        "type(o)"
      ],
      "metadata": {
        "colab": {
          "base_uri": "https://localhost:8080/"
        },
        "id": "khJywMB09Rng",
        "outputId": "5ffb5aec-7e54-40ae-b5e7-4b645fe47954"
      },
      "execution_count": null,
      "outputs": [
        {
          "output_type": "stream",
          "name": "stdout",
          "text": [
            "(9+4j)\n"
          ]
        },
        {
          "output_type": "execute_result",
          "data": {
            "text/plain": [
              "complex"
            ]
          },
          "metadata": {},
          "execution_count": 25
        }
      ]
    },
    {
      "cell_type": "code",
      "source": [
        "e=float(a)\n",
        "type(e)\n",
        "print(e)"
      ],
      "metadata": {
        "colab": {
          "base_uri": "https://localhost:8080/"
        },
        "id": "PWim2KHE9YKE",
        "outputId": "71f82239-1fce-4c83-d9b1-a5bc181ad64c"
      },
      "execution_count": null,
      "outputs": [
        {
          "output_type": "stream",
          "name": "stdout",
          "text": [
            "9.0\n"
          ]
        }
      ]
    },
    {
      "cell_type": "code",
      "source": [
        "x=90.87\n",
        "y=int(x)"
      ],
      "metadata": {
        "id": "eaKeShrQ9tL-"
      },
      "execution_count": null,
      "outputs": []
    },
    {
      "cell_type": "code",
      "source": [
        "type(y)\n",
        "print(y)\n"
      ],
      "metadata": {
        "colab": {
          "base_uri": "https://localhost:8080/"
        },
        "id": "phDMXQx_-pQH",
        "outputId": "65c9f208-3123-47a2-b92e-1ae6dd396ceb"
      },
      "execution_count": null,
      "outputs": [
        {
          "output_type": "stream",
          "name": "stdout",
          "text": [
            "90\n"
          ]
        }
      ]
    },
    {
      "cell_type": "code",
      "source": [
        " a=True\n",
        " type(a)"
      ],
      "metadata": {
        "colab": {
          "base_uri": "https://localhost:8080/"
        },
        "id": "4MfyLb_U-sZg",
        "outputId": "1a2a1c74-b4fe-4185-db22-59afbf5f6158"
      },
      "execution_count": null,
      "outputs": [
        {
          "output_type": "execute_result",
          "data": {
            "text/plain": [
              "bool"
            ]
          },
          "metadata": {},
          "execution_count": 29
        }
      ]
    },
    {
      "cell_type": "code",
      "source": [
        "b=False"
      ],
      "metadata": {
        "id": "H4QCi0GU_MYu"
      },
      "execution_count": null,
      "outputs": []
    },
    {
      "cell_type": "code",
      "source": [
        "type(b)"
      ],
      "metadata": {
        "colab": {
          "base_uri": "https://localhost:8080/"
        },
        "id": "XquYLBXL_N2z",
        "outputId": "de1796be-253c-4264-9811-b900dab5cbe2"
      },
      "execution_count": null,
      "outputs": [
        {
          "output_type": "execute_result",
          "data": {
            "text/plain": [
              "bool"
            ]
          },
          "metadata": {},
          "execution_count": 31
        }
      ]
    },
    {
      "cell_type": "code",
      "source": [
        "a=7>3 #this is a conditiojn and bool check\n",
        "print(a)\n",
        "type(a)"
      ],
      "metadata": {
        "colab": {
          "base_uri": "https://localhost:8080/"
        },
        "id": "heT1Lbu1_PVD",
        "outputId": "477f633b-3ffb-42dd-bc1a-7545c4b9c60a"
      },
      "execution_count": null,
      "outputs": [
        {
          "output_type": "stream",
          "name": "stdout",
          "text": [
            "True\n"
          ]
        },
        {
          "output_type": "execute_result",
          "data": {
            "text/plain": [
              "bool"
            ]
          },
          "metadata": {},
          "execution_count": 32
        }
      ]
    },
    {
      "cell_type": "code",
      "source": [
        " num_1=10\n",
        " num_2=20\n",
        "\n",
        " sum=num_1+num_2\n",
        " print(sum)\n",
        "\n",
        " diff=num_1-num_2\n",
        " print(diff)\n",
        "\n",
        " prod=num_1*num_2\n",
        " print(prod)\n",
        "\n",
        " quot=num_1/num_2\n",
        " print(quot)\n",
        "\n",
        " #modulo operator\n",
        " remainder=num_2%num_1\n",
        " print(remainder)\n",
        " #exponent\n",
        " exponent=num_1**num_2\n",
        " print(exponent)"
      ],
      "metadata": {
        "id": "BfF8-dgF_1Q7",
        "colab": {
          "base_uri": "https://localhost:8080/"
        },
        "outputId": "f51d4c4a-910a-4b10-c099-c22d722ff836"
      },
      "execution_count": null,
      "outputs": [
        {
          "output_type": "stream",
          "name": "stdout",
          "text": [
            "30\n",
            "-10\n",
            "200\n",
            "0.5\n",
            "0\n",
            "100000000000000000000\n"
          ]
        }
      ]
    },
    {
      "cell_type": "markdown",
      "source": [
        "Assignment operator]\n"
      ],
      "metadata": {
        "id": "hz1KrM1qSuXx"
      }
    },
    {
      "cell_type": "markdown",
      "source": [
        "# New section"
      ],
      "metadata": {
        "id": "ERH63e24HaZy"
      }
    },
    {
      "cell_type": "code",
      "source": [
        "# prompt: assignment ooperator basic\n",
        "\n",
        "# basic assignment\n",
        "a = 10\n",
        "print(a)\n",
        "\n",
        "# add and assign\n",
        "a += 5  # equivalent to a = a + 5\n",
        "print(a)\n",
        "\n",
        "# subtract and assign\n",
        "a -= 3  # equivalent to a = a - 3\n",
        "print(a)\n",
        "\n",
        "# multiply and assign\n",
        "a *= 2  # equivalent to a = a * 2\n",
        "print(a)\n",
        "\n",
        "# divide and assign\n",
        "a /= 4  # equivalent to a = a / 4\n",
        "print(a)\n",
        "\n",
        "# modulo and assign\n",
        "a %= 3  # equivalent to a = a % 3\n",
        "print(a)\n",
        "\n",
        "# exponentiate and assign\n",
        "a **= 2 # equivalent to a = a ** 2\n",
        "print(a)\n",
        "\n",
        "# floor divide and assign\n",
        "a //= 2 # equivalent to a = a // 2\n",
        "a"
      ],
      "metadata": {
        "colab": {
          "base_uri": "https://localhost:8080/"
        },
        "id": "8bpv3SAeS-0S",
        "outputId": "0c986b12-eaed-4002-edd8-3efb312cf6b5"
      },
      "execution_count": null,
      "outputs": [
        {
          "output_type": "stream",
          "name": "stdout",
          "text": [
            "10\n",
            "15\n",
            "12\n",
            "24\n",
            "6.0\n",
            "0.0\n",
            "0.0\n"
          ]
        },
        {
          "output_type": "execute_result",
          "data": {
            "text/plain": [
              "0.0"
            ]
          },
          "metadata": {},
          "execution_count": 4
        }
      ]
    },
    {
      "cell_type": "markdown",
      "source": [
        "comparison operator\n",
        "\n"
      ],
      "metadata": {
        "id": "l5puMGQ3Tck-"
      }
    },
    {
      "cell_type": "code",
      "source": [
        "a=5\n",
        "b=6\n",
        "a==b\n",
        "a>b\n",
        "a!=b\n",
        "a<b\n",
        "a<=b\n",
        "\n",
        "#logical operatoR\n",
        "\n",
        "print(a>20 and a<4)\n",
        "print(a>20 or a<4)\n",
        "print(not(a>20 and a<4))\n",
        "\n",
        "#identity operator\n",
        "x=4\n",
        "y=4\n",
        "print(x is y)\n",
        "print(x is not y)\n",
        "\n",
        "#memebrship operator\n",
        "#in and not in\n",
        "a=5\n",
        "b=10\n",
        "c=[1,2,3,4,5]\n",
        "print(a in c)\n",
        "print(b in c)\n",
        "print(a not in c)\n",
        "print(b not in c)\n",
        "\n",
        "\n"
      ],
      "metadata": {
        "colab": {
          "base_uri": "https://localhost:8080/"
        },
        "id": "hptksr--Txs2",
        "outputId": "5abfe144-e64d-43dc-fada-728c7e4fb026"
      },
      "execution_count": null,
      "outputs": [
        {
          "output_type": "stream",
          "name": "stdout",
          "text": [
            "False\n",
            "False\n",
            "True\n",
            "True\n",
            "False\n",
            "True\n",
            "False\n",
            "False\n",
            "True\n"
          ]
        }
      ]
    },
    {
      "cell_type": "markdown",
      "source": [
        "simple if else statementt\n"
      ],
      "metadata": {
        "id": "1kHf3_79WvAy"
      }
    },
    {
      "cell_type": "code",
      "source": [
        "a=b\n",
        "b=50\n",
        "if(a>b):\n",
        "  print(\"a is greater than b\")\n",
        "else:\n",
        "  print(\"b s greater than  a\")"
      ],
      "metadata": {
        "id": "vei_FDavWzIy"
      },
      "execution_count": null,
      "outputs": []
    },
    {
      "cell_type": "markdown",
      "source": [
        "\\"
      ],
      "metadata": {
        "id": "K5wRHK6jWrVQ"
      }
    },
    {
      "cell_type": "code",
      "source": [
        "a=int(input(\"enter the first number\"))\n",
        "b=int(input(\"enter the second number\"))\n",
        "\n",
        "if(a>b):\n",
        "  print('a is greater number')\n",
        "else:\n",
        "  print('b is greater number')"
      ],
      "metadata": {
        "colab": {
          "base_uri": "https://localhost:8080/"
        },
        "id": "Z_94MqENXRDL",
        "outputId": "0405ee2f-546e-439e-e544-73b9c9562cf4"
      },
      "execution_count": null,
      "outputs": [
        {
          "output_type": "stream",
          "name": "stdout",
          "text": [
            "enter the first number23\n",
            "enter the second number34\n",
            "b is greater number\n"
          ]
        }
      ]
    },
    {
      "cell_type": "markdown",
      "source": [
        "if elif else\n"
      ],
      "metadata": {
        "id": "AcODQ2IBX_X7"
      }
    },
    {
      "cell_type": "code",
      "source": [
        "a=3\n",
        "b=4\n",
        "c=7\n",
        "if(b<a>c):\n",
        "  print(\"a is greatest number\")\n",
        "elif(a<b>c):\n",
        "  print(\"b is greatest number\")\n",
        "else:\n",
        "  print(\"c is greatest number\")"
      ],
      "metadata": {
        "colab": {
          "base_uri": "https://localhost:8080/"
        },
        "id": "idAMhsRLYBbL",
        "outputId": "0e8bc583-e854-40dc-e3af-7ab8c60ab33d"
      },
      "execution_count": null,
      "outputs": [
        {
          "output_type": "stream",
          "name": "stdout",
          "text": [
            "c is greatest number\n"
          ]
        }
      ]
    },
    {
      "cell_type": "code",
      "source": [
        "#nested if statement\n",
        "a=334\n",
        "b=450\n",
        "c=43\n",
        "\n",
        "if(a>b):\n",
        "  if(a>c):\n",
        "    print(\"a is the greatest number\")\n",
        "  else:\n",
        "    print(\"c is the greatest number\")\n",
        "else:\n",
        "  if(b>c):\n",
        "    print(\"b is the greatest number\")"
      ],
      "metadata": {
        "id": "zObVKBpoY0c1"
      },
      "execution_count": null,
      "outputs": []
    },
    {
      "cell_type": "markdown",
      "source": [
        "For loop\n"
      ],
      "metadata": {
        "id": "QdTz2eUPZsUE"
      }
    },
    {
      "cell_type": "code",
      "source": [
        "laptop=int(input(\"enter the number of laptop\"))\n"
      ],
      "metadata": {
        "id": "hx5yVHKiZ5CD"
      },
      "execution_count": null,
      "outputs": []
    }
  ]
}